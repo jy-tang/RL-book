{
 "cells": [
  {
   "cell_type": "code",
   "execution_count": 49,
   "metadata": {
    "collapsed": true
   },
   "outputs": [],
   "source": [
    "import numpy as np\n",
    "import math\n",
    "import itertools\n",
    "from rl.returns import returns\n",
    "import rl.markov_process as mp\n",
    "from typing import Iterable, Iterator, Tuple, TypeVar, Dict\n",
    "from rl.distribution import Choose\n",
    "from IPython.display import clear_output\n",
    "import matplotlib.pyplot as plt"
   ]
  },
  {
   "cell_type": "markdown",
   "source": [
    "## Write a function mc_tabular for Tabular MC Prediction. Learining rate = $1/n$"
   ],
   "metadata": {
    "collapsed": false,
    "pycharm": {
     "name": "#%% md\n"
    }
   }
  },
  {
   "cell_type": "code",
   "execution_count": 50,
   "outputs": [],
   "source": [
    "S = TypeVar('S')\n",
    "A = TypeVar('A')\n",
    "def mc_tabular(traces: Iterable[Iterable[mp.TransitionStep[S]]],\n",
    "        γ: float,\n",
    "        tolerance: float = 1e-6)->Dict[S, Iterable[float]]:\n",
    "    values_function = {}\n",
    "    count = {}\n",
    "    temp = 0\n",
    "    for trace in traces:\n",
    "        temp += 1\n",
    "\n",
    "        if temp%100 == 0:\n",
    "            print(temp)\n",
    "        clear_output(wait=True)\n",
    "        return_step = returns(trace, γ, tolerance)\n",
    "        for step in return_step:\n",
    "            if step.state in values_function.keys():\n",
    "                count[step.state] += 1\n",
    "                values_function[step.state] += [values_function[step.state][-1]+1/count[step.state]*(step.return_ - values_function[step.state][-1])]\n",
    "            else:\n",
    "                count[step.state] = 1\n",
    "                values_function[step.state] = [step.return_]\n",
    "    return values_function"
   ],
   "metadata": {
    "collapsed": false,
    "pycharm": {
     "name": "#%%\n"
    }
   }
  },
  {
   "cell_type": "markdown",
   "source": [
    "## Import Simple Inventory MRP(code from text book)."
   ],
   "metadata": {
    "collapsed": false,
    "pycharm": {
     "name": "#%% md\n"
    }
   }
  },
  {
   "cell_type": "code",
   "execution_count": 51,
   "outputs": [
    {
     "name": "stdout",
     "output_type": "stream",
     "text": [
      "{InventoryState(on_hand=0, on_order=2): -28.345,\n",
      " InventoryState(on_hand=1, on_order=0): -28.932,\n",
      " InventoryState(on_hand=1, on_order=1): -29.345,\n",
      " InventoryState(on_hand=2, on_order=0): -30.345,\n",
      " InventoryState(on_hand=0, on_order=0): -35.511,\n",
      " InventoryState(on_hand=0, on_order=1): -27.932}\n"
     ]
    }
   ],
   "source": [
    "from rl.chapter2.simple_inventory_mrp import SimpleInventoryMRPFinite\n",
    "user_capacity = 2\n",
    "user_poisson_lambda = 1.0\n",
    "user_holding_cost = 1.0\n",
    "user_stockout_cost = 10.0\n",
    "user_gamma = 0.9\n",
    "\n",
    "si_mrp = SimpleInventoryMRPFinite( capacity=user_capacity,\n",
    "                                   poisson_lambda=user_poisson_lambda,\n",
    "                                   holding_cost=user_holding_cost,\n",
    "                                   stockout_cost=user_stockout_cost\n",
    ")\n",
    "si_mrp.display_value_function(gamma=user_gamma)\n"
   ],
   "metadata": {
    "collapsed": false,
    "pycharm": {
     "name": "#%%\n"
    }
   }
  },
  {
   "cell_type": "markdown",
   "source": [
    "## Predict Value Fuctions with MC."
   ],
   "metadata": {
    "collapsed": false
   }
  },
  {
   "cell_type": "code",
   "execution_count": 52,
   "outputs": [
    {
     "name": "stdout",
     "output_type": "stream",
     "text": [
      "100000\n"
     ]
    }
   ],
   "source": [
    "# code from text book\n",
    "traces = si_mrp.reward_traces(Choose(set(si_mrp.non_terminal_states)))\n",
    "niter = 100000\n",
    "traces = itertools.islice(traces,niter)\n",
    "values = mc_tabular(traces, user_gamma)"
   ],
   "metadata": {
    "collapsed": false,
    "pycharm": {
     "name": "#%%\n"
    }
   }
  },
  {
   "cell_type": "code",
   "execution_count": 53,
   "outputs": [
    {
     "name": "stdout",
     "output_type": "stream",
     "text": [
      "InventoryState(on_hand=0, on_order=0): -35.505511315933475\n",
      "InventoryState(on_hand=0, on_order=2): -28.339601058337614\n",
      "InventoryState(on_hand=1, on_order=0): -28.93273439316319\n",
      "InventoryState(on_hand=0, on_order=1): -27.935342769723796\n",
      "InventoryState(on_hand=1, on_order=1): -29.346150916964074\n",
      "InventoryState(on_hand=2, on_order=0): -30.346465581643994\n"
     ]
    }
   ],
   "source": [
    "for state in values.keys():\n",
    "    print(str(state)+\": \"+str(values[state][-1]))"
   ],
   "metadata": {
    "collapsed": false,
    "pycharm": {
     "name": "#%%\n"
    }
   }
  },
  {
   "cell_type": "markdown",
   "source": [
    "## Show RMSE of MC respective to MRP as a function of episode numbers."
   ],
   "metadata": {
    "collapsed": false
   }
  },
  {
   "cell_type": "code",
   "execution_count": 54,
   "outputs": [
    {
     "data": {
      "text/plain": "Text(0, 0.5, 'Valution Function RMSE')"
     },
     "execution_count": 54,
     "metadata": {},
     "output_type": "execute_result"
    },
    {
     "data": {
      "text/plain": "<Figure size 432x288 with 1 Axes>",
      "image/png": "[encoded data removed]"
     },
     "metadata": {
      "needs_background": "light"
     },
     "output_type": "display_data"
    },
    {
     "data": {
      "text/plain": "<Figure size 432x288 with 1 Axes>",
      "image/png": "[encoded data removed]"
     },
     "metadata": {
      "needs_background": "light"
     },
     "output_type": "display_data"
    }
   ],
   "source": [
    "ground_truth ={si_mrp.non_terminal_states[i]: round(v, 3)\n",
    "            for i, v in enumerate(si_mrp.get_value_function_vec(user_gamma))}\n",
    "rmse = []\n",
    "for k in range(niter):\n",
    "    temp = 0\n",
    "    for state in values.keys():\n",
    "        temp += (values[state][k]-ground_truth[state])**2\n",
    "    temp **= 1/2\n",
    "    rmse += [temp]\n",
    "xx = range(niter)\n",
    "plt.figure()\n",
    "plt.plot(rmse)\n",
    "plt.xlabel('number of episodes')\n",
    "plt.ylabel('Valution Function RMSE')\n",
    "plt.figure()\n",
    "plt.plot(xx[niter//2:niter],rmse[niter//2:niter])\n",
    "plt.xlabel('number of episodes')\n",
    "plt.ylabel('Valution Function RMSE')\n",
    "\n"
   ],
   "metadata": {
    "collapsed": false,
    "pycharm": {
     "name": "#%%\n"
    }
   }
  },
  {
   "cell_type": "code",
   "execution_count": null,
   "outputs": [],
   "source": [],
   "metadata": {
    "collapsed": false,
    "pycharm": {
     "name": "#%%\n"
    }
   }
  }
 ],
 "metadata": {
  "kernelspec": {
   "display_name": "Python 3",
   "language": "python",
   "name": "python3"
  },
  "language_info": {
   "codemirror_mode": {
    "name": "ipython",
    "version": 2
   },
   "file_extension": ".py",
   "mimetype": "text/x-python",
   "name": "python",
   "nbconvert_exporter": "python",
   "pygments_lexer": "ipython2",
   "version": "2.7.6"
  }
 },
 "nbformat": 4,
 "nbformat_minor": 0
}