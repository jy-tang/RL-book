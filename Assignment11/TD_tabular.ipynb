{
 "cells": [
  {
   "cell_type": "code",
   "execution_count": 23,
   "metadata": {
    "collapsed": true
   },
   "outputs": [],
   "source": [
    "import itertools\n",
    "from rl.returns import returns\n",
    "import rl.markov_process as mp\n",
    "from typing import Iterable, Iterator, Tuple, TypeVar, Dict, Callable\n",
    "from rl.distribution import Choose\n",
    "from IPython.display import clear_output\n",
    "import matplotlib.pyplot as plt\n"
   ]
  },
  {
   "cell_type": "markdown",
   "source": [
    "## Write a function mc_tabular for Tabular TD Prediction."
   ],
   "metadata": {
    "collapsed": false
   }
  },
  {
   "cell_type": "code",
   "execution_count": 24,
   "outputs": [],
   "source": [
    "S = TypeVar('S')\n",
    "A = TypeVar('A')\n",
    "def td_tabular(experiences: Iterable[mp.TransitionStep[S]],\n",
    "        gamma: float,\n",
    "        learning_rate: Callable[[int],float],\n",
    "        )->Dict[S, Iterable[float]]:\n",
    "\n",
    "    values_function = {}\n",
    "    count = {}\n",
    "    temp = 0\n",
    "    for step in experiences:\n",
    "        temp += 1\n",
    "\n",
    "        if temp%10000 == 0:\n",
    "            print(temp/100)\n",
    "            clear_output(wait=True)\n",
    "\n",
    "        count[step.state] = count.get(step.state,0) + 1\n",
    "        alpha = learning_rate(count.get(step.state,0))\n",
    "        values_function[step.state] =values_function.get(step.state,0) + alpha*(step.reward + gamma*values_function.get(step.next_state,0) - values_function.get(step.state,0))\n",
    "\n",
    "\n",
    "\n",
    "    return values_function\n"
   ],
   "metadata": {
    "collapsed": false,
    "pycharm": {
     "name": "#%%\n"
    }
   }
  },
  {
   "cell_type": "markdown",
   "source": [
    "## Import Simple Inventory MRP(code from text book)."
   ],
   "metadata": {
    "collapsed": false
   }
  },
  {
   "cell_type": "code",
   "execution_count": 25,
   "outputs": [
    {
     "name": "stdout",
     "output_type": "stream",
     "text": [
      "{InventoryState(on_hand=1, on_order=0): -28.932,\n",
      " InventoryState(on_hand=0, on_order=0): -35.511,\n",
      " InventoryState(on_hand=0, on_order=1): -27.932,\n",
      " InventoryState(on_hand=0, on_order=2): -28.345,\n",
      " InventoryState(on_hand=1, on_order=1): -29.345,\n",
      " InventoryState(on_hand=2, on_order=0): -30.345}\n"
     ]
    }
   ],
   "source": [
    "from rl.chapter2.simple_inventory_mrp import SimpleInventoryMRPFinite\n",
    "user_capacity = 2\n",
    "user_poisson_lambda = 1.0\n",
    "user_holding_cost = 1.0\n",
    "user_stockout_cost = 10.0\n",
    "user_gamma = 0.9\n",
    "\n",
    "si_mrp = SimpleInventoryMRPFinite( capacity=user_capacity,\n",
    "                                   poisson_lambda=user_poisson_lambda,\n",
    "                                   holding_cost=user_holding_cost,\n",
    "                                   stockout_cost=user_stockout_cost\n",
    ")\n",
    "si_mrp.display_value_function(gamma=user_gamma)"
   ],
   "metadata": {
    "collapsed": false,
    "pycharm": {
     "name": "#%%\n"
    }
   }
  },
  {
   "cell_type": "markdown",
   "source": [
    "## Define learning rate and atomic experiences as in the textbook"
   ],
   "metadata": {
    "collapsed": false,
    "pycharm": {
     "name": "#%% md\n",
     "is_executing": true
    }
   }
  },
  {
   "cell_type": "code",
   "execution_count": 26,
   "outputs": [],
   "source": [
    "from rl.function_approx import learning_rate_schedule\n",
    "from rl.chapter10.prediction_utils import fmrp_episodes_stream\n",
    "from rl.chapter10.prediction_utils import unit_experiences_from_episodes\n",
    "\n",
    "episode_length: int = 100\n",
    "num_episode: int = 100000\n",
    "initial_learning_rate: float = 0.03\n",
    "half_life: float = 1000.0\n",
    "exponent: float = 0.5\n",
    "gamma: float = 0.9\n",
    "episodes: Iterable[Iterable[mp.TransitionStep[S]]] = fmrp_episodes_stream(si_mrp)\n",
    "td_experiences: Iterable[mp.TransitionStep[S]] = unit_experiences_from_episodes( episodes,\n",
    "episode_length )\n",
    "learning_rate_func: Callable[[int], float] = learning_rate_schedule( initial_learning_rate=initial_learning_rate, half_life=half_life, exponent=exponent)"
   ],
   "metadata": {
    "collapsed": false,
    "pycharm": {
     "name": "#%%\n"
    }
   }
  },
  {
   "cell_type": "markdown",
   "source": [
    "## use td_tabular to estimate the value function"
   ],
   "metadata": {
    "collapsed": false
   }
  },
  {
   "cell_type": "code",
   "execution_count": 27,
   "outputs": [
    {
     "name": "stdout",
     "output_type": "stream",
     "text": [
      "100000.0\n"
     ]
    }
   ],
   "source": [
    "experiences = itertools.islice(td_experiences,num_episode*episode_length)\n",
    "\n",
    "value_functions = td_tabular(experiences = experiences,\n",
    "        gamma = gamma,\n",
    "        learning_rate = learning_rate_func\n",
    "        )"
   ],
   "metadata": {
    "collapsed": false,
    "pycharm": {
     "name": "#%%\n"
    }
   }
  },
  {
   "cell_type": "markdown",
   "source": [
    "## print value functions to compare with DP"
   ],
   "metadata": {
    "collapsed": false
   }
  },
  {
   "cell_type": "code",
   "execution_count": 30,
   "outputs": [
    {
     "name": "stdout",
     "output_type": "stream",
     "text": [
      "InventoryState(on_hand=0, on_order=1): -27.975494777338298\n",
      "InventoryState(on_hand=1, on_order=1): -29.365020514735743\n",
      "InventoryState(on_hand=1, on_order=0): -28.94621131687509\n",
      "InventoryState(on_hand=2, on_order=0): -30.388594059800837\n",
      "InventoryState(on_hand=0, on_order=0): -35.42135562965067\n",
      "InventoryState(on_hand=0, on_order=2): -28.22541310935279\n"
     ]
    }
   ],
   "source": [
    "for state in value_functions.keys():\n",
    "    print(str(state)+\": \"+str(value_functions[state]))"
   ],
   "metadata": {
    "collapsed": false,
    "pycharm": {
     "name": "#%%\n"
    }
   }
  },
  {
   "cell_type": "code",
   "execution_count": null,
   "outputs": [],
   "source": [],
   "metadata": {
    "collapsed": false,
    "pycharm": {
     "name": "#%%\n"
    }
   }
  }
 ],
 "metadata": {
  "kernelspec": {
   "display_name": "Python 3",
   "language": "python",
   "name": "python3"
  },
  "language_info": {
   "codemirror_mode": {
    "name": "ipython",
    "version": 2
   },
   "file_extension": ".py",
   "mimetype": "text/x-python",
   "name": "python",
   "nbconvert_exporter": "python",
   "pygments_lexer": "ipython2",
   "version": "2.7.6"
  }
 },
 "nbformat": 4,
 "nbformat_minor": 0
}