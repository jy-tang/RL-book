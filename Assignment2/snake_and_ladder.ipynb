{
 "cells": [
  {
   "cell_type": "markdown",
   "metadata": {
    "collapsed": true,
    "pycharm": {
     "name": "#%% md\n"
    }
   },
   "source": [
    "### **Q1. Model the game of Snakes and Ladders (single-player game) as a Markov Process. Write out it’s state space and structure of transition probabilities.**\n",
    "\n",
    "State space $S$ are a set of integer k, where $1 \\leq k \\leq N_{stop}$ and k is not the start of a ladder of snake. It is due to the start of ladder or snake will never be the start or end of a step.\n",
    "\n",
    "Here we define two dictionaries ladder and snake in the data class SL_rules, where (key,value) pair are starts and ends of ladder or snake.\n",
    "\n",
    "Transition probability can be calculated in a recursive way. From any start point $k \\in S$, we roll a dice. For result in [1,5], we have the probability of $k + roll result$ of $dic[k+roll result]$ if there is a ladder or snake here is $1/6$.\n",
    "In the cases we get a $6$, we change the start point to $k+6$ or $dic[k+6]$ and repeat the process above. The recursive function stops when the player pass the stop position.\n",
    "\n",
    "\n",
    "\n"
   ]
  },
  {
   "cell_type": "markdown",
   "source": [
    "### **Q2. Create a transition map**\n",
    "Define SL_state to record the position of the player. SL_Rules to record the stop position and positions of snakes and ladders"
   ],
   "metadata": {
    "collapsed": false,
    "pycharm": {
     "name": "#%% md\n"
    }
   }
  },
  {
   "cell_type": "code",
   "execution_count": 1,
   "outputs": [],
   "source": [
    "from rl import markov_process, distribution\n",
    "from typing import (Dict, Iterable, Generic, Sequence, Tuple,\n",
    "                    Mapping, Optional, TypeVar)\n",
    "from dataclasses import dataclass\n",
    "from rl.distribution import Categorical\n",
    "import matplotlib.pyplot as plt\n",
    "\n",
    "@dataclass(frozen=True)\n",
    "class SL_State:\n",
    "    position: int\n",
    "\n",
    "@dataclass(frozen=True)\n",
    "class SL_Rules:\n",
    "    stopstate: int\n",
    "    snake: Dict[int,int]\n",
    "    ladder: Dict[int,int]\n",
    "\n",
    "class SL_MDP(markov_process.FiniteMarkovProcess[SL_State]):\n",
    "\n",
    "    def __init__(self, sl_rule: SL_Rules):\n",
    "        self.sl_rule = sl_rule\n",
    "        super().__init__(self.get_transition_map())\n",
    "\n",
    "    def get_transition_map(self) -> markov_process.Transition[SL_State]:\n",
    "        d: Dict[SL_State, Categorical[SL_State]] = {}\n",
    "        n = self.sl_rule.stopstate\n",
    "        d[SL_State(n)] = None\n",
    "        def roll_dice(k,temp_dict,pre_prob):\n",
    "            for roll_result in range(1,6):\n",
    "                if k + roll_result >= n:\n",
    "                    temp_dict[SL_State(n)] = pre_prob*(7-roll_result)/6\n",
    "                    return\n",
    "                if k + roll_result in self.sl_rule.snake.keys():\n",
    "                    temp_dict[SL_State(self.sl_rule.snake[k+roll_result])] = pre_prob*1/6\n",
    "                elif k + roll_result in self.sl_rule.ladder.keys():\n",
    "                    temp_dict[SL_State(self.sl_rule.ladder[k+roll_result])] = pre_prob*1/6\n",
    "                else:\n",
    "                    temp_dict[SL_State(k+roll_result)] = pre_prob*1/6\n",
    "            roll_result = 6\n",
    "            if k + roll_result >= n:\n",
    "                temp_dict[SL_State(n)] = (7-roll_result)/6\n",
    "                return\n",
    "            if k + roll_result in self.sl_rule.snake.keys():\n",
    "                roll_dice(self.sl_rule.snake[k+roll_result],temp_dict,pre_prob=1/6)\n",
    "\n",
    "            elif k + roll_result in self.sl_rule.ladder.keys():\n",
    "                roll_dice(self.sl_rule.ladder[k+roll_result],temp_dict,pre_prob=1/6)\n",
    "            else:\n",
    "                roll_dice(k+roll_result,temp_dict,pre_prob=1/6)\n",
    "\n",
    "\n",
    "\n",
    "\n",
    "        for k in range(1,n):\n",
    "            if (k not in self.sl_rule.snake.keys()) and (k not in self.sl_rule.ladder.keys()):\n",
    "                print(k)\n",
    "                temp_dict = {}\n",
    "                roll_dice(k,temp_dict,1)\n",
    "                d[SL_State(k)] = Categorical(temp_dict)\n",
    "\n",
    "        return d"
   ],
   "metadata": {
    "collapsed": false,
    "pycharm": {
     "name": "#%%\n"
    }
   }
  },
  {
   "cell_type": "markdown",
   "source": [
    "Show the MDP for a simple case with stop position = 8."
   ],
   "metadata": {
    "collapsed": false,
    "pycharm": {
     "name": "#%% md\n"
    }
   }
  },
  {
   "cell_type": "code",
   "execution_count": 2,
   "outputs": [],
   "source": [
    "#sl_rules = SL_Rules(stopstate=10, snake={5:3},\n",
    "#                    ladder = {2:4})\n",
    "#mdp = SL_MDP(sl_rules)\n",
    "#mdp"
   ],
   "metadata": {
    "collapsed": false,
    "pycharm": {
     "name": "#%%\n"
    }
   }
  },
  {
   "cell_type": "markdown",
   "source": [
    "Calculate an example from https://piazza.com/class/kjgrmumjhtc3br?cid=17."
   ],
   "metadata": {
    "collapsed": false,
    "pycharm": {
     "name": "#%% md\n"
    }
   }
  },
  {
   "cell_type": "code",
   "execution_count": 3,
   "outputs": [
    {
     "name": "stdout",
     "output_type": "stream",
     "text": [
      "1\n",
      "2\n",
      "4\n",
      "5\n",
      "6\n",
      "8\n",
      "9\n",
      "10\n",
      "11\n",
      "13\n",
      "14\n",
      "15\n",
      "16\n",
      "17\n",
      "18\n",
      "19\n",
      "21\n",
      "22\n",
      "23\n",
      "24\n",
      "26\n",
      "27\n",
      "29\n",
      "30\n",
      "32\n",
      "33\n",
      "34\n",
      "35\n",
      "36\n",
      "37\n",
      "39\n",
      "40\n",
      "41\n",
      "42\n",
      "43\n",
      "44\n",
      "46\n",
      "47\n",
      "48\n",
      "50\n",
      "51\n",
      "52\n",
      "53\n",
      "54\n",
      "55\n",
      "56\n",
      "57\n",
      "58\n",
      "59\n",
      "61\n",
      "62\n",
      "63\n",
      "64\n",
      "65\n",
      "66\n",
      "68\n",
      "70\n",
      "71\n",
      "72\n",
      "73\n",
      "74\n",
      "75\n",
      "76\n",
      "78\n",
      "79\n",
      "80\n",
      "81\n",
      "82\n",
      "83\n",
      "84\n",
      "85\n",
      "86\n",
      "87\n",
      "88\n",
      "89\n",
      "90\n",
      "91\n",
      "92\n",
      "93\n",
      "94\n",
      "95\n",
      "96\n",
      "97\n",
      "98\n",
      "99\n",
      "<class 'rl.distribution.Categorical'>\n",
      "<class 'rl.distribution.Categorical'>\n"
     ]
    },
    {
     "data": {
      "text/plain": "<Figure size 432x288 with 1 Axes>",
      "image/png": "[encoded data removed]"
     },
     "metadata": {
      "needs_background": "light"
     },
     "output_type": "display_data"
    },
    {
     "data": {
      "text/plain": "<Figure size 432x288 with 1 Axes>",
      "image/png": "[encoded data removed]"
     },
     "metadata": {
      "needs_background": "light"
     },
     "output_type": "display_data"
    }
   ],
   "source": [
    "sl_rules = SL_Rules(stopstate=100, snake ={38:1,31:6,49:8},\n",
    "                    ladder = {3:39,7:48,12:51,20:41,25:57,28:35,45:74,60:85,67:90,69:92,77:83})\n",
    "mdp = SL_MDP(sl_rules)\n",
    "start_distr = Categorical({SL_State(1): 1})\n",
    "print(type(start_distr))\n",
    "plt.figure()\n",
    "for i, trace in enumerate(mdp.traces(start_distr)):\n",
    "    traj = []\n",
    "    for _,x in enumerate(trace):\n",
    "        traj += [x.position]\n",
    "    plt.plot(traj)\n",
    "    if i > 1:\n",
    "        break\n",
    "plt.xlabel('Step')\n",
    "plt.ylabel('Position')\n",
    "plt.show()\n",
    "\n",
    "start_distr = Categorical({SL_State(1): 1})\n",
    "print(type(start_distr))\n",
    "timesteps =[]\n",
    "for i,trace in enumerate(mdp.traces(start_distr)):\n",
    "    timesteps += [sum(1 for _ in trace)]\n",
    "    if i > 50000:\n",
    "        break\n",
    "\n",
    "plt.hist(timesteps,bins = 50,density=True)\n",
    "plt.xlabel('Steps')\n",
    "plt.ylabel('Probability Density')\n",
    "plt.show()"
   ],
   "metadata": {
    "collapsed": false,
    "pycharm": {
     "name": "#%%\n"
    }
   }
  },
  {
   "cell_type": "code",
   "execution_count": 1,
   "outputs": [
    {
     "ename": "NameError",
     "evalue": "name 'SL_Rules' is not defined",
     "output_type": "error",
     "traceback": [
      "\u001B[1;31m---------------------------------------------------------------------------\u001B[0m",
      "\u001B[1;31mNameError\u001B[0m                                 Traceback (most recent call last)",
      "\u001B[1;32m<ipython-input-1-59edc2e80196>\u001B[0m in \u001B[0;36m<module>\u001B[1;34m\u001B[0m\n\u001B[1;32m----> 1\u001B[1;33m sl_rules = SL_Rules(stopstate=100, snake ={38:1,31:6,49:8,53:17,65:14,76:37,70:34,94:42,88:50,98:54,82:63},\n\u001B[0m\u001B[0;32m      2\u001B[0m                     ladder = {3:39,7:48,12:51,20:41,25:57,28:35,45:74,60:85,67:90,69:92,77:83})\n\u001B[0;32m      3\u001B[0m \u001B[0mmdp\u001B[0m \u001B[1;33m=\u001B[0m \u001B[0mSL_MDP\u001B[0m\u001B[1;33m(\u001B[0m\u001B[0msl_rules\u001B[0m\u001B[1;33m)\u001B[0m\u001B[1;33m\u001B[0m\u001B[1;33m\u001B[0m\u001B[0m\n\u001B[0;32m      4\u001B[0m \u001B[1;33m\u001B[0m\u001B[0m\n",
      "\u001B[1;31mNameError\u001B[0m: name 'SL_Rules' is not defined"
     ]
    }
   ],
   "source": [
    "sl_rules = SL_Rules(stopstate=100, snake ={38:1,31:6,49:8,53:17,65:14,76:37,70:34,94:42,88:50,98:54,82:63},\n",
    "                    ladder = {3:39,7:48,12:51,20:41,25:57,28:35,45:74,60:85,67:90,69:92,77:83})\n",
    "mdp = SL_MDP(sl_rules)"
   ],
   "metadata": {
    "collapsed": false,
    "pycharm": {
     "name": "#%%\n"
    }
   }
  },
  {
   "cell_type": "markdown",
   "source": [
    "Show three traces"
   ],
   "metadata": {
    "collapsed": false,
    "pycharm": {
     "name": "#%% md\n"
    }
   }
  },
  {
   "cell_type": "code",
   "execution_count": 1,
   "outputs": [
    {
     "ename": "NameError",
     "evalue": "name 'Categorical' is not defined",
     "output_type": "error",
     "traceback": [
      "\u001B[1;31m---------------------------------------------------------------------------\u001B[0m",
      "\u001B[1;31mNameError\u001B[0m                                 Traceback (most recent call last)",
      "\u001B[1;32m<ipython-input-1-d257b1c52be4>\u001B[0m in \u001B[0;36m<module>\u001B[1;34m\u001B[0m\n\u001B[1;32m----> 1\u001B[1;33m \u001B[0mstart_distr\u001B[0m \u001B[1;33m=\u001B[0m \u001B[0mCategorical\u001B[0m\u001B[1;33m(\u001B[0m\u001B[1;33m{\u001B[0m\u001B[0mSL_State\u001B[0m\u001B[1;33m(\u001B[0m\u001B[1;36m1\u001B[0m\u001B[1;33m)\u001B[0m\u001B[1;33m:\u001B[0m \u001B[1;36m1\u001B[0m\u001B[1;33m}\u001B[0m\u001B[1;33m)\u001B[0m\u001B[1;33m\u001B[0m\u001B[1;33m\u001B[0m\u001B[0m\n\u001B[0m\u001B[0;32m      2\u001B[0m \u001B[0mprint\u001B[0m\u001B[1;33m(\u001B[0m\u001B[0mtype\u001B[0m\u001B[1;33m(\u001B[0m\u001B[0mstart_distr\u001B[0m\u001B[1;33m)\u001B[0m\u001B[1;33m)\u001B[0m\u001B[1;33m\u001B[0m\u001B[1;33m\u001B[0m\u001B[0m\n\u001B[0;32m      3\u001B[0m \u001B[0mplt\u001B[0m\u001B[1;33m.\u001B[0m\u001B[0mfigure\u001B[0m\u001B[1;33m(\u001B[0m\u001B[1;33m)\u001B[0m\u001B[1;33m\u001B[0m\u001B[1;33m\u001B[0m\u001B[0m\n\u001B[0;32m      4\u001B[0m \u001B[1;32mfor\u001B[0m \u001B[0mi\u001B[0m\u001B[1;33m,\u001B[0m \u001B[0mtrace\u001B[0m \u001B[1;32min\u001B[0m \u001B[0menumerate\u001B[0m\u001B[1;33m(\u001B[0m\u001B[0mmdp\u001B[0m\u001B[1;33m.\u001B[0m\u001B[0mtraces\u001B[0m\u001B[1;33m(\u001B[0m\u001B[0mstart_distr\u001B[0m\u001B[1;33m)\u001B[0m\u001B[1;33m)\u001B[0m\u001B[1;33m:\u001B[0m\u001B[1;33m\u001B[0m\u001B[1;33m\u001B[0m\u001B[0m\n\u001B[0;32m      5\u001B[0m     \u001B[0mtraj\u001B[0m \u001B[1;33m=\u001B[0m \u001B[1;33m[\u001B[0m\u001B[1;33m]\u001B[0m\u001B[1;33m\u001B[0m\u001B[1;33m\u001B[0m\u001B[0m\n",
      "\u001B[1;31mNameError\u001B[0m: name 'Categorical' is not defined"
     ]
    }
   ],
   "source": [
    "start_distr = Categorical({SL_State(1): 1})\n",
    "print(type(start_distr))\n",
    "plt.figure()\n",
    "for i, trace in enumerate(mdp.traces(start_distr)):\n",
    "    traj = []\n",
    "    for _,x in enumerate(trace):\n",
    "        traj += [x.position]\n",
    "    plt.plot(traj)\n",
    "    if i > 1:\n",
    "        break\n",
    "plt.xlabel('Step')\n",
    "plt.ylabel('Position')\n",
    "plt.show()"
   ],
   "metadata": {
    "collapsed": false,
    "pycharm": {
     "name": "#%%\n"
    }
   }
  },
  {
   "cell_type": "markdown",
   "source": [
    "Calculate the distribution of time steps to finish the game"
   ],
   "metadata": {
    "collapsed": false,
    "pycharm": {
     "name": "#%% md\n"
    }
   }
  },
  {
   "cell_type": "code",
   "execution_count": 2,
   "outputs": [
    {
     "ename": "NameError",
     "evalue": "name 'Categorical' is not defined",
     "output_type": "error",
     "traceback": [
      "\u001B[1;31m---------------------------------------------------------------------------\u001B[0m",
      "\u001B[1;31mNameError\u001B[0m                                 Traceback (most recent call last)",
      "\u001B[1;32m<ipython-input-2-2a3098e7cee5>\u001B[0m in \u001B[0;36m<module>\u001B[1;34m\u001B[0m\n\u001B[1;32m----> 1\u001B[1;33m \u001B[0mstart_distr\u001B[0m \u001B[1;33m=\u001B[0m \u001B[0mCategorical\u001B[0m\u001B[1;33m(\u001B[0m\u001B[1;33m{\u001B[0m\u001B[0mSL_State\u001B[0m\u001B[1;33m(\u001B[0m\u001B[1;36m1\u001B[0m\u001B[1;33m)\u001B[0m\u001B[1;33m:\u001B[0m \u001B[1;36m1\u001B[0m\u001B[1;33m}\u001B[0m\u001B[1;33m)\u001B[0m\u001B[1;33m\u001B[0m\u001B[1;33m\u001B[0m\u001B[0m\n\u001B[0m\u001B[0;32m      2\u001B[0m \u001B[0mprint\u001B[0m\u001B[1;33m(\u001B[0m\u001B[0mtype\u001B[0m\u001B[1;33m(\u001B[0m\u001B[0mstart_distr\u001B[0m\u001B[1;33m)\u001B[0m\u001B[1;33m)\u001B[0m\u001B[1;33m\u001B[0m\u001B[1;33m\u001B[0m\u001B[0m\n\u001B[0;32m      3\u001B[0m \u001B[0mtimesteps\u001B[0m \u001B[1;33m=\u001B[0m\u001B[1;33m[\u001B[0m\u001B[1;33m]\u001B[0m\u001B[1;33m\u001B[0m\u001B[1;33m\u001B[0m\u001B[0m\n\u001B[0;32m      4\u001B[0m \u001B[1;32mfor\u001B[0m \u001B[0mi\u001B[0m\u001B[1;33m,\u001B[0m\u001B[0mtrace\u001B[0m \u001B[1;32min\u001B[0m \u001B[0menumerate\u001B[0m\u001B[1;33m(\u001B[0m\u001B[0mmdp\u001B[0m\u001B[1;33m.\u001B[0m\u001B[0mtraces\u001B[0m\u001B[1;33m(\u001B[0m\u001B[0mstart_distr\u001B[0m\u001B[1;33m)\u001B[0m\u001B[1;33m)\u001B[0m\u001B[1;33m:\u001B[0m\u001B[1;33m\u001B[0m\u001B[1;33m\u001B[0m\u001B[0m\n\u001B[0;32m      5\u001B[0m     \u001B[0mtimesteps\u001B[0m \u001B[1;33m+=\u001B[0m \u001B[1;33m[\u001B[0m\u001B[0msum\u001B[0m\u001B[1;33m(\u001B[0m\u001B[1;36m1\u001B[0m \u001B[1;32mfor\u001B[0m \u001B[0m_\u001B[0m \u001B[1;32min\u001B[0m \u001B[0mtrace\u001B[0m\u001B[1;33m)\u001B[0m\u001B[1;33m]\u001B[0m\u001B[1;33m\u001B[0m\u001B[1;33m\u001B[0m\u001B[0m\n",
      "\u001B[1;31mNameError\u001B[0m: name 'Categorical' is not defined"
     ]
    }
   ],
   "source": [
    "start_distr = Categorical({SL_State(1): 1})\n",
    "print(type(start_distr))\n",
    "timesteps =[]\n",
    "for i,trace in enumerate(mdp.traces(start_distr)):\n",
    "    timesteps += [sum(1 for _ in trace)]\n",
    "    if i > 10000:\n",
    "        break\n",
    "\n",
    "plt.hist(timesteps,bins = 50,density=True)\n",
    "plt.xlabel('Steps')\n",
    "plt.ylabel('Probability Density')\n",
    "plt.show()"
   ],
   "metadata": {
    "collapsed": false,
    "pycharm": {
     "name": "#%%\n"
    }
   }
  },
  {
   "cell_type": "code",
   "source": [],
   "metadata": {
    "collapsed": false,
    "pycharm": {
     "name": "#%%\n"
    }
   },
   "execution_count": null,
   "outputs": []
  },
  {
   "cell_type": "code",
   "execution_count": null,
   "outputs": [],
   "source": [],
   "metadata": {
    "collapsed": false,
    "pycharm": {
     "name": "#%%\n"
    }
   }
  }
 ],
 "metadata": {
  "kernelspec": {
   "display_name": "Python 3",
   "language": "python",
   "name": "python3"
  },
  "language_info": {
   "codemirror_mode": {
    "name": "ipython",
    "version": 2
   },
   "file_extension": ".py",
   "mimetype": "text/x-python",
   "name": "python",
   "nbconvert_exporter": "python",
   "pygments_lexer": "ipython2",
   "version": "2.7.6"
  }
 },
 "nbformat": 4,
 "nbformat_minor": 0
}