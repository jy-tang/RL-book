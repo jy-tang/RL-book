{
 "cells": [
  {
   "cell_type": "markdown",
   "metadata": {
    "collapsed": true,
    "pycharm": {
     "name": "#%% md\n"
    }
   },
   "source": [
    "Q1. Model the game of Snakes and Ladders (single-player game) as a Markov Process. Write out it’s state space and structure of transition probabilities.\n",
    "\n",
    "Answer:\n",
    "\n",
    "State space = {k} where $1<=k<=100$ inidicating the position of the player.\n",
    "$k=100$ is terminal state.\n",
    "\n",
    "Here we define two dictionaries ladder and snake, where (key,value) pair are starts and ends of ladder or snake.\n",
    "\n",
    "Transition matrix $P(k,k'):N \\times S \\rightarrow [0,1] $ are defined as\n",
    "\n",
    "$P(k,k') =  \\begin{cases}\n",
    "   1  & k \\in dic.keys(),\\ k' = dic[k], dic = snake \\ or \\ ladder\\\\\n",
    "   1/6   & k \\notin dic.keys(),k'-k \\leq 6\\\\\n",
    "   0     & else\n",
    "\\end{cases}$\n",
    "\n"
   ]
  }
 ],
 "metadata": {
  "kernelspec": {
   "display_name": "Python 3",
   "language": "python",
   "name": "python3"
  },
  "language_info": {
   "codemirror_mode": {
    "name": "ipython",
    "version": 2
   },
   "file_extension": ".py",
   "mimetype": "text/x-python",
   "name": "python",
   "nbconvert_exporter": "python",
   "pygments_lexer": "ipython2",
   "version": "2.7.6"
  }
 },
 "nbformat": 4,
 "nbformat_minor": 0
}