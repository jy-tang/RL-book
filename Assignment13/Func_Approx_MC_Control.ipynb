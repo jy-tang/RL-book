{
 "cells": [
  {
   "cell_type": "code",
   "execution_count": 69,
   "metadata": {
    "collapsed": true
   },
   "outputs": [],
   "source": [
    "from rl.monte_carlo import mc_control\n",
    "from typing import Iterable, Iterator, Tuple, TypeVar, Callable, Optional, Dict,Mapping,Sequence\n",
    "\n",
    "from rl.distribution import Distribution\n",
    "from rl.function_approx import FunctionApprox\n",
    "import rl.markov_process as mp\n",
    "import rl.markov_decision_process as markov_decision_process\n",
    "from rl.markov_decision_process import (MarkovDecisionProcess)\n",
    "\n",
    "from rl.markov_decision_process import Policy, FinitePolicy, TransitionStep\n",
    "from rl.distribution import (Bernoulli, Constant, Categorical, Choose,\n",
    "                             Distribution, FiniteDistribution, Gaussian, SampledDistribution)\n",
    "from IPython.display import clear_output\n",
    "from pprint import pprint\n",
    "import numpy as np\n",
    "from operator import itemgetter\n",
    "import rl.iterate as iterate"
   ]
  },
  {
   "cell_type": "markdown",
   "source": [
    "## Import AssetAllocDiscrete from rl.chapter7.asset_alloc_discrete"
   ],
   "metadata": {
    "collapsed": false,
    "pycharm": {
     "name": "#%% md\n"
    }
   }
  },
  {
   "cell_type": "code",
   "execution_count": 62,
   "outputs": [],
   "source": [
    "from rl.chapter7.asset_alloc_discrete import AssetAllocDiscrete\n",
    "from rl.function_approx import DNNSpec, AdamGradient, DNNApprox\n",
    "\n",
    "steps: int = 4\n",
    "μ: float = 0.13\n",
    "σ: float = 0.2\n",
    "r: float = 0.07\n",
    "a: float = 1.0\n",
    "init_wealth: float = 1.0\n",
    "init_wealth_var: float = 0.1\n",
    "excess: float = μ - r\n",
    "var: float = σ * σ\n",
    "base_alloc: float = excess / (a * var)\n",
    "risky_ret: Sequence[Gaussian] = [Gaussian(μ=μ, σ=σ) for _ in range(steps)]\n",
    "riskless_ret: Sequence[float] = [r for _ in range(steps)]\n",
    "utility_function: Callable[[float], float] = lambda x: - np.exp(-a * x) / a\n",
    "alloc_choices: Sequence[float] = np.linspace(\n",
    "    2 / 3 * base_alloc,\n",
    "    4 / 3 * base_alloc,\n",
    "    11\n",
    ")\n",
    "feature_funcs: Sequence[Callable[[Tuple[float, float]], float]] = \\\n",
    "    [\n",
    "        lambda _: 1.,\n",
    "        lambda w_x: w_x[0],\n",
    "        lambda w_x: w_x[1],\n",
    "        lambda w_x: w_x[1] * w_x[1]\n",
    "    ]\n",
    "dnn: DNNSpec = DNNSpec(\n",
    "    neurons=[],\n",
    "    bias=False,\n",
    "    hidden_activation=lambda x: x,\n",
    "    hidden_activation_deriv=lambda y: np.ones_like(y),\n",
    "    output_activation=lambda x: - np.sign(a) * np.exp(-x),\n",
    "    output_activation_deriv=lambda y: -y\n",
    ")\n",
    "init_wealth_distr: Gaussian = Gaussian(μ=init_wealth, σ=init_wealth_var)\n",
    "aad: AssetAllocDiscrete = AssetAllocDiscrete(\n",
    "    risky_return_distributions=risky_ret,\n",
    "    riskless_returns=riskless_ret,\n",
    "    utility_func=utility_function,\n",
    "    risky_alloc_choices=alloc_choices,\n",
    "    feature_functions=feature_funcs,\n",
    "    dnn_spec=dnn,\n",
    "    initial_wealth_distribution=init_wealth_distr\n",
    ")\n",
    "\n"
   ],
   "metadata": {
    "collapsed": false,
    "pycharm": {
     "name": "#%%\n"
    }
   }
  },
  {
   "cell_type": "code",
   "execution_count": 90,
   "outputs": [
    {
     "name": "stdout",
     "output_type": "stream",
     "text": [
      "Backward Induction on Q-Value Function\n",
      "--------------------------------------\n",
      "\n",
      "Time 0\n",
      "\n",
      "Opt Risky Allocation = 1.200, Opt Val = -0.225\n",
      "Optimal Weights below:\n",
      "array([[ 0.1372123 ,  1.30858048,  0.0749945 , -0.03075826]])\n",
      "\n",
      "Time 1\n",
      "\n",
      "Opt Risky Allocation = 1.300, Opt Val = -0.257\n",
      "Optimal Weights below:\n",
      "array([[ 0.09134505,  1.22497502,  0.06730742, -0.0255609 ]])\n",
      "\n",
      "Time 2\n",
      "\n",
      "Opt Risky Allocation = 1.400, Opt Val = -0.291\n",
      "Optimal Weights below:\n",
      "array([[ 0.04540807,  1.14462205,  0.06450261, -0.02289097]])\n",
      "\n",
      "Time 3\n",
      "\n",
      "Opt Risky Allocation = 1.500, Opt Val = -0.328\n",
      "Optimal Weights below:\n",
      "array([[-0.0033298 ,  1.07023387,  0.06499304, -0.02184007]])\n",
      "\n"
     ]
    }
   ],
   "source": [
    "it_qvf: Iterator[DNNApprox[Tuple[float, float]]] = \\\n",
    "        aad.backward_induction_qvf()\n",
    "print(\"Backward Induction on Q-Value Function\")\n",
    "print(\"--------------------------------------\")\n",
    "print()\n",
    "for t, q in enumerate(it_qvf):\n",
    "    print(f\"Time {t:d}\")\n",
    "    print()\n",
    "    opt_alloc: float = max(\n",
    "        ((q.evaluate([(init_wealth, ac)])[0], ac) for ac in alloc_choices),\n",
    "        key=itemgetter(0)\n",
    "    )[1]\n",
    "    val: float = max(q.evaluate([(init_wealth, ac)])[0]\n",
    "                     for ac in alloc_choices)\n",
    "    print(f\"Opt Risky Allocation = {opt_alloc:.3f}, Opt Val = {val:.3f}\")\n",
    "    print(\"Optimal Weights below:\")\n",
    "    for wts in q.weights:\n",
    "        pprint(wts.weights)\n",
    "    print()"
   ],
   "metadata": {
    "collapsed": false,
    "pycharm": {
     "name": "#%%\n"
    }
   }
  },
  {
   "cell_type": "markdown",
   "source": [
    "## Define mc_control for MC control algorithm on Finite Horizon. Define helper functions policy_from_q,returns"
   ],
   "metadata": {
    "collapsed": false,
    "pycharm": {
     "name": "#%% md\n"
    }
   }
  },
  {
   "cell_type": "code",
   "execution_count": 91,
   "outputs": [],
   "source": [
    "## use a modified version of rl.monte_carlo.mc_control\n",
    "S = TypeVar('S')\n",
    "A = TypeVar('A')\n",
    "\n",
    "def policy_from_q(\n",
    "        q: FunctionApprox[Tuple[S, A]],\n",
    "        actions: Iterable[A],\n",
    "        ϵ: float = 0.0\n",
    ") -> Policy[S, A]:\n",
    "    '''Return a policy that chooses the action that maximizes the reward\n",
    "    for each state in the given Q function.\n",
    "\n",
    "    Arguments:\n",
    "      q -- approximation of the Q function for the MDP\n",
    "      mdp -- the process for which we're generating a policy\n",
    "      ϵ -- the fraction of the actions where we explore rather\n",
    "      than following the optimal policy\n",
    "\n",
    "    Returns a policy based on the given Q function.\n",
    "\n",
    "    '''\n",
    "    explore = Bernoulli(ϵ)\n",
    "\n",
    "    class QPolicy(Policy[S, A]):\n",
    "        def act(self, s: S) -> Optional[Distribution[A]]:\n",
    "            #terminal state?\n",
    "\n",
    "            if explore.sample():\n",
    "                return Choose(set(actions))\n",
    "\n",
    "            ind = np.argmax(q.evaluate([(s, a) for a in actions]))\n",
    "            return Constant(actions[ind])\n",
    "\n",
    "    return QPolicy()\n",
    "\n",
    "\n",
    "def returns(trace, γ):\n",
    "    '''Given an iterator of states and rewards, calculate the return of\n",
    "    the first N states.\n",
    "\n",
    "    Arguments:\n",
    "    rewards -- instantaneous rewards\n",
    "    γ -- the discount factor (0 < γ ≤ 1)\n",
    "    tolerance -- a small value—we stop iterating once γᵏ ≤ tolerance\n",
    "\n",
    "    '''\n",
    "    trace = iter(trace)\n",
    "    *transitions, last_transition = list(trace)\n",
    "\n",
    "    return_steps = iterate.accumulate(\n",
    "        reversed(transitions),\n",
    "        func=lambda next, curr: curr.add_return(γ, next.return_),\n",
    "        initial=last_transition.add_return(γ, 0)\n",
    "    )\n",
    "    return_steps = reversed(list(return_steps))\n",
    "\n",
    "\n",
    "    return return_steps\n",
    "\n",
    "\n",
    "def mc_control(\n",
    "        simulator: Callable[[Distribution[S],Sequence[Policy[S,A]]], Iterator[TransitionStep[S, A]]],\n",
    "        states: Distribution[S],\n",
    "        n_steps: int,      # max number of steps in an episode\n",
    "        q_0: Sequence[FunctionApprox[Tuple[S, A]]], # a sequence of length n_steps\n",
    "        actions: Sequence[A],  # Assume same action space at each time step, as in AssetAllocDiscrete\n",
    "        gamma: float = 1.0,\n",
    ") -> Iterator[Sequence[FunctionApprox[Tuple[S, A]]]]:\n",
    "\n",
    "    # initialize the q and p for each time step\n",
    "    q = q_0\n",
    "    p = []\n",
    "    for q_t in q:\n",
    "        p.append(policy_from_q(q_t,actions,1.0))\n",
    "\n",
    "    trace_count = 0\n",
    "    while True:\n",
    "        trace_count += 1\n",
    "        epsilon = 1/trace_count\n",
    "\n",
    "        # get the trace with returns of n_steps steps\n",
    "        trace: Iterable[TransitionStep[S, A]] =\\\n",
    "            simulator(states, p)\n",
    "        return_trace = returns(trace,gamma)\n",
    "        count = 0\n",
    "\n",
    "        # update q_t,p_t given the (state,action),return pair.\n",
    "        for step in return_trace:\n",
    "            q[count] = q[count].update(\n",
    "                [((step.state, step.action), step.return_)])\n",
    "            p[count] = policy_from_q(q[count], actions, epsilon)\n",
    "            count += 1\n",
    "        yield q\n",
    "\n",
    "\n",
    "n_steps = steps\n",
    "states = init_wealth_distr\n",
    "actions = alloc_choices\n",
    "\n",
    "# Here define the simulator to simulate the trace of Reward steps\n",
    "def AssetAlloc_simulator(start_states,policy,n = n_steps, mdp = aad):\n",
    "    state: S = start_states.sample()\n",
    "    count =0\n",
    "\n",
    "    #for each time step use the different mdps\n",
    "    while count < n_steps:\n",
    "        action_distribution = policy[count].act(state)\n",
    "        if action_distribution is None:\n",
    "            return\n",
    "        action = action_distribution.sample()\n",
    "        next_distribution = mdp.get_mdp(count).step(state, action)\n",
    "        if next_distribution is None:\n",
    "            return\n",
    "        next_state, reward = next_distribution.sample()\n",
    "        yield TransitionStep(state, action, next_state, reward)\n",
    "        state = next_state\n",
    "        count += 1\n",
    "\n",
    "\n",
    "# Here initialize the Q with DNN\n",
    "adam_gradient: AdamGradient = AdamGradient(\n",
    "          learning_rate=0.0001,\n",
    "          decay1=0.9,\n",
    "          decay2=0.999\n",
    "      )\n",
    "\n",
    "f0 = DNNApprox.create(\n",
    "            feature_functions=feature_funcs,\n",
    "            dnn_spec=dnn,\n",
    "            adam_gradient=adam_gradient\n",
    "        )\n",
    "\n",
    "q_0 = [f0]*steps\n",
    "\n",
    "# run the MC contorl algorithm,get the iterator of q_t for each time step\n",
    "x =  mc_control(\n",
    "        simulator =  AssetAlloc_simulator,\n",
    "        states = states,\n",
    "        n_steps = n_steps,      # max number of steps in an episode\n",
    "        q_0 = q_0, # a sequence of length n_steps\n",
    "        actions=actions,  # Assume same action space at each time step, as in AssetAllocDiscrete\n",
    "        gamma= 1.0\n",
    ")\n",
    "\n",
    "import itertools\n",
    "*_,q_final = itertools.islice(x,50000)"
   ],
   "metadata": {
    "collapsed": false,
    "pycharm": {
     "name": "#%%\n"
    }
   }
  },
  {
   "cell_type": "markdown",
   "source": [
    "## Print the optimal policy and values"
   ],
   "metadata": {
    "collapsed": false,
    "pycharm": {
     "name": "#%% md\n"
    }
   }
  },
  {
   "cell_type": "code",
   "execution_count": 92,
   "outputs": [
    {
     "name": "stdout",
     "output_type": "stream",
     "text": [
      "Time 0\n",
      "\n",
      "Opt Risky Allocation = 1.000, Opt Val = -0.236\n",
      "Optimal Weights below:\n",
      "array([[ 0.74646261,  0.67924272,  0.09229573, -0.07429557]])\n",
      "\n",
      "Time 1\n",
      "\n",
      "Opt Risky Allocation = 1.000, Opt Val = -0.256\n",
      "Optimal Weights below:\n",
      "array([[ 0.66592855,  0.80579313,  0.01925434, -0.12936472]])\n",
      "\n",
      "Time 2\n",
      "\n",
      "Opt Risky Allocation = 1.000, Opt Val = -0.286\n",
      "Optimal Weights below:\n",
      "array([[ 0.60633376,  0.90173984, -0.0473305 , -0.20874174]])\n",
      "\n",
      "Time 3\n",
      "\n",
      "Opt Risky Allocation = 1.000, Opt Val = -0.324\n",
      "Optimal Weights below:\n",
      "array([[ 0.54796225,  0.96893698, -0.10966852, -0.28004666]])\n",
      "\n"
     ]
    }
   ],
   "source": [
    "for t, q in enumerate(q_final):\n",
    "    print(f\"Time {t:d}\")\n",
    "    print()\n",
    "    opt_alloc: float = max(\n",
    "        ((q.evaluate([(init_wealth, ac)])[0], ac) for ac in alloc_choices),\n",
    "        key=itemgetter(0)\n",
    "    )[1]\n",
    "    val: float = max(q.evaluate([(init_wealth, ac)])[0]\n",
    "                     for ac in alloc_choices)\n",
    "    print(f\"Opt Risky Allocation = {opt_alloc:.3f}, Opt Val = {val:.3f}\")\n",
    "    print(\"Optimal Weights below:\")\n",
    "    for wts in q.weights:\n",
    "        pprint(wts.weights)\n",
    "    print()\n"
   ],
   "metadata": {
    "collapsed": false,
    "pycharm": {
     "name": "#%%\n"
    }
   }
  },
  {
   "cell_type": "markdown",
   "source": [
    "However the outcome of MC control is not consistent with Approx DP. Not sure why..."
   ],
   "metadata": {
    "collapsed": false,
    "pycharm": {
     "name": "#%% md\n"
    }
   }
  },
  {
   "cell_type": "code",
   "execution_count": null,
   "outputs": [],
   "source": [],
   "metadata": {
    "collapsed": false,
    "pycharm": {
     "name": "#%%\n"
    }
   }
  }
 ],
 "metadata": {
  "kernelspec": {
   "display_name": "Python 3",
   "language": "python",
   "name": "python3"
  },
  "language_info": {
   "codemirror_mode": {
    "name": "ipython",
    "version": 2
   },
   "file_extension": ".py",
   "mimetype": "text/x-python",
   "name": "python",
   "nbconvert_exporter": "python",
   "pygments_lexer": "ipython2",
   "version": "2.7.6"
  }
 },
 "nbformat": 4,
 "nbformat_minor": 0
}