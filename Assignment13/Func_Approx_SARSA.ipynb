{
 "cells": [
  {
   "cell_type": "code",
   "execution_count": 2,
   "metadata": {
    "collapsed": true
   },
   "outputs": [],
   "source": [
    "from rl.monte_carlo import mc_control\n",
    "from typing import Iterable, Iterator, Tuple, TypeVar, Callable, Optional, Dict,Mapping,Sequence\n",
    "\n",
    "from rl.distribution import Distribution\n",
    "from rl.function_approx import FunctionApprox\n",
    "import rl.markov_process as mp\n",
    "import rl.markov_decision_process as markov_decision_process\n",
    "from rl.markov_decision_process import (MarkovDecisionProcess)\n",
    "\n",
    "from rl.markov_decision_process import Policy, FinitePolicy, TransitionStep\n",
    "from rl.distribution import (Bernoulli, Constant, Categorical, Choose,\n",
    "                             Distribution, FiniteDistribution, Gaussian, SampledDistribution)\n",
    "from IPython.display import clear_output\n",
    "from pprint import pprint\n",
    "import numpy as np\n",
    "from operator import itemgetter\n",
    "import rl.iterate as iterate\n",
    "\n"
   ]
  },
  {
   "cell_type": "markdown",
   "source": [
    "## Import AssetAllocDiscrete from rl.chapter7.asset_alloc_discrete"
   ],
   "metadata": {
    "collapsed": false,
    "pycharm": {
     "name": "#%% md\n"
    }
   }
  },
  {
   "cell_type": "code",
   "execution_count": 3,
   "outputs": [],
   "source": [
    "from rl.chapter7.asset_alloc_discrete import AssetAllocDiscrete\n",
    "from rl.function_approx import DNNSpec, AdamGradient, DNNApprox\n",
    "\n",
    "steps: int = 4\n",
    "μ: float = 0.13\n",
    "σ: float = 0.2\n",
    "r: float = 0.07\n",
    "a: float = 1.0\n",
    "init_wealth: float = 1.0\n",
    "init_wealth_var: float = 0.1\n",
    "excess: float = μ - r\n",
    "var: float = σ * σ\n",
    "base_alloc: float = excess / (a * var)\n",
    "risky_ret: Sequence[Gaussian] = [Gaussian(μ=μ, σ=σ) for _ in range(steps)]\n",
    "riskless_ret: Sequence[float] = [r for _ in range(steps)]\n",
    "utility_function: Callable[[float], float] = lambda x: - np.exp(-a * x) / a\n",
    "alloc_choices: Sequence[float] = np.linspace(\n",
    "    2 / 3 * base_alloc,\n",
    "    4 / 3 * base_alloc,\n",
    "    11\n",
    ")\n",
    "feature_funcs: Sequence[Callable[[Tuple[float, float]], float]] = \\\n",
    "    [\n",
    "        lambda _: 1.,\n",
    "        lambda w_x: w_x[0],\n",
    "        lambda w_x: w_x[1],\n",
    "        lambda w_x: w_x[1] * w_x[1]\n",
    "    ]\n",
    "dnn: DNNSpec = DNNSpec(\n",
    "    neurons=[],\n",
    "    bias=False,\n",
    "    hidden_activation=lambda x: x,\n",
    "    hidden_activation_deriv=lambda y: np.ones_like(y),\n",
    "    output_activation=lambda x: - np.sign(a) * np.exp(-x),\n",
    "    output_activation_deriv=lambda y: -y\n",
    ")\n",
    "init_wealth_distr: Gaussian = Gaussian(μ=init_wealth, σ=init_wealth_var)\n",
    "aad: AssetAllocDiscrete = AssetAllocDiscrete(\n",
    "    risky_return_distributions=risky_ret,\n",
    "    riskless_returns=riskless_ret,\n",
    "    utility_func=utility_function,\n",
    "    risky_alloc_choices=alloc_choices,\n",
    "    feature_functions=feature_funcs,\n",
    "    dnn_spec=dnn,\n",
    "    initial_wealth_distribution=init_wealth_distr\n",
    ")\n"
   ],
   "metadata": {
    "collapsed": false,
    "pycharm": {
     "name": "#%%\n"
    }
   }
  },
  {
   "cell_type": "markdown",
   "source": [
    "## Define Function SARSA for the function approximation SARSA"
   ],
   "metadata": {
    "collapsed": false,
    "pycharm": {
     "name": "#%% md\n"
    }
   }
  },
  {
   "cell_type": "code",
   "execution_count": 20,
   "outputs": [],
   "source": [
    "S = TypeVar('S')\n",
    "A = TypeVar('A')\n",
    "\n",
    "def policy_from_q(\n",
    "        q: FunctionApprox[Tuple[S, A]],\n",
    "        actions: Iterable[A],\n",
    "        ϵ: float = 0.0\n",
    ") -> Policy[S, A]:\n",
    "\n",
    "    explore = Bernoulli(ϵ)\n",
    "\n",
    "    class QPolicy(Policy[S, A]):\n",
    "        def act(self, s: S) -> Optional[Distribution[A]]:\n",
    "            #terminal state?\n",
    "\n",
    "            if explore.sample():\n",
    "                return Choose(set(actions))\n",
    "\n",
    "            ind = np.argmax(q.evaluate([(s, a) for a in actions]))\n",
    "            return Constant(actions[ind])\n",
    "\n",
    "    return QPolicy()\n",
    "\n",
    "\n",
    "def SARSA(\n",
    "        simulator: Callable[[S,A,int], TransitionStep[S, A]],\n",
    "        state_distribution: Distribution[S],\n",
    "        n_steps: int,      # max number of steps in an episode\n",
    "        q_0: Sequence[FunctionApprox[Tuple[S, A]]], # a sequence of length n_steps\n",
    "        actions: Sequence[A],  # Assume same action space at each time step, as in AssetAllocDiscrete\n",
    "        gamma: float = 1.0,\n",
    ") -> Iterator[Sequence[FunctionApprox[Tuple[S, A]]]]:\n",
    "\n",
    "    # initialize the q and p for each time step\n",
    "    q = q_0\n",
    "    p = []\n",
    "\n",
    "\n",
    "    trace_count = 0\n",
    "    while True:\n",
    "        trace_count += 1\n",
    "        epsilon = 1/trace_count\n",
    "\n",
    "        state = state_distribution.sample()      # initialize S\n",
    "        p = policy_from_q(q[0],actions,epsilon)\n",
    "        action = p.act(state).sample()\n",
    "\n",
    "        # update q_t,p_t given the (state,action),return pair.\n",
    "        for step_count in range(n_steps-1):\n",
    "            next_state,reward = simulator(state,action,step_count)\n",
    "            p = policy_from_q(q[step_count],actions,epsilon)\n",
    "            next_action = p.act(next_state).sample()\n",
    "            #update Q\n",
    "            q[step_count] = q[step_count].update(\n",
    "                [((state, action), reward + gamma*q[step_count+1].evaluate([(next_state,next_action)])[0])])\n",
    "            state = next_state\n",
    "            action = next_action\n",
    "\n",
    "        q[n_steps-1] = q[n_steps-1].update([((state, action), reward)])\n",
    "        yield q\n",
    "\n",
    "\n",
    "n_steps = steps\n",
    "states = init_wealth_distr\n",
    "actions = alloc_choices\n",
    "\n",
    "# Here define the simulator to simulate  Reward steps\n",
    "def AssetAlloc_simulator(state,action,step_count, mdp = aad):\n",
    "\n",
    "    next_distribution = mdp.get_mdp(step_count).step(state, action)\n",
    "    if next_distribution is None:\n",
    "        return\n",
    "    next_state, reward = next_distribution.sample()\n",
    "    return next_state,reward\n",
    "\n",
    "# Here initialize the Q with DNN\n",
    "adam_gradient: AdamGradient = AdamGradient(\n",
    "          learning_rate=0.01,\n",
    "          decay1=0.9,\n",
    "          decay2=0.999\n",
    "      )\n",
    "\n",
    "f0 = DNNApprox.create(\n",
    "            feature_functions=feature_funcs,\n",
    "            dnn_spec=dnn,\n",
    "            adam_gradient=adam_gradient\n",
    "        )\n",
    "\n",
    "q_0 = [f0]*steps\n",
    "\n",
    "x = SARSA(\n",
    "        simulator = AssetAlloc_simulator,\n",
    "        state_distribution = states,\n",
    "        n_steps = n_steps,      # max number of steps in an episode\n",
    "        q_0 = q_0, # a sequence of length n_steps\n",
    "        actions = actions  # Assume same action space at each time step, as in AssetAllocDiscrete\n",
    ")\n"
   ],
   "metadata": {
    "collapsed": false,
    "pycharm": {
     "name": "#%%\n"
    }
   }
  },
  {
   "cell_type": "markdown",
   "source": [
    "## Run Simulation for Discrete Asset Allocation"
   ],
   "metadata": {
    "collapsed": false,
    "pycharm": {
     "name": "#%% md\n"
    }
   }
  },
  {
   "cell_type": "code",
   "execution_count": 21,
   "outputs": [
    {
     "name": "stdout",
     "output_type": "stream",
     "text": [
      "Time 0\n",
      "\n",
      "Opt Risky Allocation = 2.000, Opt Val = -0.000\n",
      "Optimal Weights below:\n",
      "array([[0.92668216, 0.80368065, 1.19502037, 1.46901892]])\n",
      "\n",
      "Time 1\n",
      "\n",
      "Opt Risky Allocation = 2.000, Opt Val = -0.000\n",
      "Optimal Weights below:\n",
      "array([[0.83521631, 0.60700166, 1.14078539, 1.56938303]])\n",
      "\n",
      "Time 2\n",
      "\n",
      "Opt Risky Allocation = 2.000, Opt Val = -0.000\n",
      "Optimal Weights below:\n",
      "array([[1.58797381, 1.07730445, 1.45525804, 1.12153839]])\n",
      "\n",
      "Time 3\n",
      "\n",
      "Opt Risky Allocation = 2.000, Opt Val = -0.000\n",
      "Optimal Weights below:\n",
      "array([[1.40528257, 0.9757113 , 1.47585994, 1.40533774]])\n",
      "\n"
     ]
    }
   ],
   "source": [
    "import itertools\n",
    "*_,q_final = itertools.islice(x,10000)\n",
    "\n",
    "\n",
    "\n",
    "for t, q in enumerate(q_final):\n",
    "    print(f\"Time {t:d}\")\n",
    "    print()\n",
    "    opt_alloc: float = max(\n",
    "        ((q.evaluate([(init_wealth, ac)])[0], ac) for ac in alloc_choices),\n",
    "        key=itemgetter(0)\n",
    "    )[1]\n",
    "    val: float = max(q.evaluate([(init_wealth, ac)])[0]\n",
    "                     for ac in alloc_choices)\n",
    "    print(f\"Opt Risky Allocation = {opt_alloc:.3f}, Opt Val = {val:.3f}\")\n",
    "    print(\"Optimal Weights below:\")\n",
    "    for wts in q.weights:\n",
    "        pprint(wts.weights)\n",
    "    print()"
   ],
   "metadata": {
    "collapsed": false,
    "pycharm": {
     "name": "#%%\n"
    }
   }
  },
  {
   "cell_type": "markdown",
   "source": [
    "Like in MC control there are some unknown problems here. But I think the overall framework should be reasonable...\n",
    "\n"
   ],
   "metadata": {
    "collapsed": false,
    "pycharm": {
     "name": "#%% md\n"
    }
   }
  }
 ],
 "metadata": {
  "kernelspec": {
   "display_name": "Python 3",
   "language": "python",
   "name": "python3"
  },
  "language_info": {
   "codemirror_mode": {
    "name": "ipython",
    "version": 2
   },
   "file_extension": ".py",
   "mimetype": "text/x-python",
   "name": "python",
   "nbconvert_exporter": "python",
   "pygments_lexer": "ipython2",
   "version": "2.7.6"
  }
 },
 "nbformat": 4,
 "nbformat_minor": 0
}